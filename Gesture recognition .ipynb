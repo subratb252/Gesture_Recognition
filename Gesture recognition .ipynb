{
 "cells": [
  {
   "cell_type": "code",
   "execution_count": 2,
   "metadata": {
    "colab": {
     "base_uri": "https://localhost:8080/"
    },
    "executionInfo": {
     "elapsed": 9512,
     "status": "ok",
     "timestamp": 1733867896212,
     "user": {
      "displayName": "dacc",
      "userId": "09344596892704604294"
     },
     "user_tz": -330
    },
    "id": "HsF91s8FJcmD",
    "outputId": "66a3e9c3-a53d-409e-c549-3cfd807b4f92"
   },
   "outputs": [
    {
     "name": "stdout",
     "output_type": "stream",
     "text": [
      "Requirement already satisfied: tensorflow==2.12.0 in /usr/local/lib/python3.10/dist-packages (2.12.0)\n",
      "Requirement already satisfied: absl-py>=1.0.0 in /usr/local/lib/python3.10/dist-packages (from tensorflow==2.12.0) (1.4.0)\n",
      "Requirement already satisfied: astunparse>=1.6.0 in /usr/local/lib/python3.10/dist-packages (from tensorflow==2.12.0) (1.6.3)\n",
      "Requirement already satisfied: flatbuffers>=2.0 in /usr/local/lib/python3.10/dist-packages (from tensorflow==2.12.0) (24.3.25)\n",
      "Requirement already satisfied: gast<=0.4.0,>=0.2.1 in /usr/local/lib/python3.10/dist-packages (from tensorflow==2.12.0) (0.4.0)\n",
      "Requirement already satisfied: google-pasta>=0.1.1 in /usr/local/lib/python3.10/dist-packages (from tensorflow==2.12.0) (0.2.0)\n",
      "Requirement already satisfied: grpcio<2.0,>=1.24.3 in /usr/local/lib/python3.10/dist-packages (from tensorflow==2.12.0) (1.68.1)\n",
      "Requirement already satisfied: h5py>=2.9.0 in /usr/local/lib/python3.10/dist-packages (from tensorflow==2.12.0) (3.12.1)\n",
      "Requirement already satisfied: jax>=0.3.15 in /usr/local/lib/python3.10/dist-packages (from tensorflow==2.12.0) (0.4.30)\n",
      "Requirement already satisfied: keras<2.13,>=2.12.0 in /usr/local/lib/python3.10/dist-packages (from tensorflow==2.12.0) (2.12.0)\n",
      "Requirement already satisfied: libclang>=13.0.0 in /usr/local/lib/python3.10/dist-packages (from tensorflow==2.12.0) (18.1.1)\n",
      "Requirement already satisfied: numpy<1.24,>=1.22 in /usr/local/lib/python3.10/dist-packages (from tensorflow==2.12.0) (1.23.5)\n",
      "Requirement already satisfied: opt-einsum>=2.3.2 in /usr/local/lib/python3.10/dist-packages (from tensorflow==2.12.0) (3.4.0)\n",
      "Requirement already satisfied: packaging in /usr/local/lib/python3.10/dist-packages (from tensorflow==2.12.0) (24.2)\n",
      "Requirement already satisfied: protobuf!=4.21.0,!=4.21.1,!=4.21.2,!=4.21.3,!=4.21.4,!=4.21.5,<5.0.0dev,>=3.20.3 in /usr/local/lib/python3.10/dist-packages (from tensorflow==2.12.0) (4.25.5)\n",
      "Requirement already satisfied: setuptools in /usr/local/lib/python3.10/dist-packages (from tensorflow==2.12.0) (75.1.0)\n",
      "Requirement already satisfied: six>=1.12.0 in /usr/local/lib/python3.10/dist-packages (from tensorflow==2.12.0) (1.16.0)\n",
      "Requirement already satisfied: tensorboard<2.13,>=2.12 in /usr/local/lib/python3.10/dist-packages (from tensorflow==2.12.0) (2.12.3)\n",
      "Requirement already satisfied: tensorflow-estimator<2.13,>=2.12.0 in /usr/local/lib/python3.10/dist-packages (from tensorflow==2.12.0) (2.12.0)\n",
      "Requirement already satisfied: termcolor>=1.1.0 in /usr/local/lib/python3.10/dist-packages (from tensorflow==2.12.0) (2.5.0)\n",
      "Requirement already satisfied: typing-extensions>=3.6.6 in /usr/local/lib/python3.10/dist-packages (from tensorflow==2.12.0) (4.12.2)\n",
      "Requirement already satisfied: wrapt<1.15,>=1.11.0 in /usr/local/lib/python3.10/dist-packages (from tensorflow==2.12.0) (1.14.1)\n",
      "Requirement already satisfied: tensorflow-io-gcs-filesystem>=0.23.1 in /usr/local/lib/python3.10/dist-packages (from tensorflow==2.12.0) (0.37.1)\n",
      "Requirement already satisfied: wheel<1.0,>=0.23.0 in /usr/local/lib/python3.10/dist-packages (from astunparse>=1.6.0->tensorflow==2.12.0) (0.45.1)\n",
      "Requirement already satisfied: jaxlib<=0.4.30,>=0.4.27 in /usr/local/lib/python3.10/dist-packages (from jax>=0.3.15->tensorflow==2.12.0) (0.4.30)\n",
      "Requirement already satisfied: ml-dtypes>=0.2.0 in /usr/local/lib/python3.10/dist-packages (from jax>=0.3.15->tensorflow==2.12.0) (0.4.1)\n",
      "Requirement already satisfied: scipy>=1.9 in /usr/local/lib/python3.10/dist-packages (from jax>=0.3.15->tensorflow==2.12.0) (1.13.1)\n",
      "Requirement already satisfied: google-auth<3,>=1.6.3 in /usr/local/lib/python3.10/dist-packages (from tensorboard<2.13,>=2.12->tensorflow==2.12.0) (2.27.0)\n",
      "Requirement already satisfied: google-auth-oauthlib<1.1,>=0.5 in /usr/local/lib/python3.10/dist-packages (from tensorboard<2.13,>=2.12->tensorflow==2.12.0) (1.0.0)\n",
      "Requirement already satisfied: markdown>=2.6.8 in /usr/local/lib/python3.10/dist-packages (from tensorboard<2.13,>=2.12->tensorflow==2.12.0) (3.7)\n",
      "Requirement already satisfied: requests<3,>=2.21.0 in /usr/local/lib/python3.10/dist-packages (from tensorboard<2.13,>=2.12->tensorflow==2.12.0) (2.32.3)\n",
      "Requirement already satisfied: tensorboard-data-server<0.8.0,>=0.7.0 in /usr/local/lib/python3.10/dist-packages (from tensorboard<2.13,>=2.12->tensorflow==2.12.0) (0.7.2)\n",
      "Requirement already satisfied: werkzeug>=1.0.1 in /usr/local/lib/python3.10/dist-packages (from tensorboard<2.13,>=2.12->tensorflow==2.12.0) (3.1.3)\n",
      "Requirement already satisfied: cachetools<6.0,>=2.0.0 in /usr/local/lib/python3.10/dist-packages (from google-auth<3,>=1.6.3->tensorboard<2.13,>=2.12->tensorflow==2.12.0) (5.5.0)\n",
      "Requirement already satisfied: pyasn1-modules>=0.2.1 in /usr/local/lib/python3.10/dist-packages (from google-auth<3,>=1.6.3->tensorboard<2.13,>=2.12->tensorflow==2.12.0) (0.4.1)\n",
      "Requirement already satisfied: rsa<5,>=3.1.4 in /usr/local/lib/python3.10/dist-packages (from google-auth<3,>=1.6.3->tensorboard<2.13,>=2.12->tensorflow==2.12.0) (4.9)\n",
      "Requirement already satisfied: requests-oauthlib>=0.7.0 in /usr/local/lib/python3.10/dist-packages (from google-auth-oauthlib<1.1,>=0.5->tensorboard<2.13,>=2.12->tensorflow==2.12.0) (1.3.1)\n",
      "Requirement already satisfied: charset-normalizer<4,>=2 in /usr/local/lib/python3.10/dist-packages (from requests<3,>=2.21.0->tensorboard<2.13,>=2.12->tensorflow==2.12.0) (3.4.0)\n",
      "Requirement already satisfied: idna<4,>=2.5 in /usr/local/lib/python3.10/dist-packages (from requests<3,>=2.21.0->tensorboard<2.13,>=2.12->tensorflow==2.12.0) (3.10)\n",
      "Requirement already satisfied: urllib3<3,>=1.21.1 in /usr/local/lib/python3.10/dist-packages (from requests<3,>=2.21.0->tensorboard<2.13,>=2.12->tensorflow==2.12.0) (2.2.3)\n",
      "Requirement already satisfied: certifi>=2017.4.17 in /usr/local/lib/python3.10/dist-packages (from requests<3,>=2.21.0->tensorboard<2.13,>=2.12->tensorflow==2.12.0) (2024.8.30)\n",
      "Requirement already satisfied: MarkupSafe>=2.1.1 in /usr/local/lib/python3.10/dist-packages (from werkzeug>=1.0.1->tensorboard<2.13,>=2.12->tensorflow==2.12.0) (3.0.2)\n",
      "Requirement already satisfied: pyasn1<0.7.0,>=0.4.6 in /usr/local/lib/python3.10/dist-packages (from pyasn1-modules>=0.2.1->google-auth<3,>=1.6.3->tensorboard<2.13,>=2.12->tensorflow==2.12.0) (0.6.1)\n",
      "Requirement already satisfied: oauthlib>=3.0.0 in /usr/local/lib/python3.10/dist-packages (from requests-oauthlib>=0.7.0->google-auth-oauthlib<1.1,>=0.5->tensorboard<2.13,>=2.12->tensorflow==2.12.0) (3.2.2)\n",
      "Requirement already satisfied: keras==2.12.0 in /usr/local/lib/python3.10/dist-packages (2.12.0)\n"
     ]
    }
   ],
   "source": [
    "!pip install tensorflow==2.12.0\n",
    "!pip install keras==2.12.0"
   ]
  },
  {
   "cell_type": "code",
   "execution_count": 2,
   "metadata": {
    "executionInfo": {
     "elapsed": 14003,
     "status": "ok",
     "timestamp": 1733870507636,
     "user": {
      "displayName": "dacc",
      "userId": "09344596892704604294"
     },
     "user_tz": -330
    },
    "id": "sSHFhgUS3Mve"
   },
   "outputs": [],
   "source": [
    "import numpy as np\n",
    "import os\n",
    "import imageio\n",
    "from imageio.v2 import imread\n",
    "from skimage.transform import resize\n",
    "import datetime\n",
    "import os\n",
    "import matplotlib.pyplot as plt\n",
    "\n",
    "import tensorflow as tf\n",
    "import keras\n",
    "from tensorflow.keras.preprocessing.image import ImageDataGenerator"
   ]
  },
  {
   "cell_type": "code",
   "execution_count": 3,
   "metadata": {
    "executionInfo": {
     "elapsed": 6,
     "status": "ok",
     "timestamp": 1733870509943,
     "user": {
      "displayName": "dacc",
      "userId": "09344596892704604294"
     },
     "user_tz": -330
    },
    "id": "Gx0SPC3TF-Qk"
   },
   "outputs": [],
   "source": [
    "import warnings\n",
    "warnings.filterwarnings(\"ignore\")"
   ]
  },
  {
   "cell_type": "code",
   "execution_count": 4,
   "metadata": {
    "colab": {
     "base_uri": "https://localhost:8080/"
    },
    "executionInfo": {
     "elapsed": 638,
     "status": "ok",
     "timestamp": 1733870515177,
     "user": {
      "displayName": "dacc",
      "userId": "09344596892704604294"
     },
     "user_tz": -330
    },
    "id": "Uc2ZlRy-GG03",
    "outputId": "c977ce53-b799-429f-b3b7-2baaa9de925a"
   },
   "outputs": [
    {
     "name": "stdout",
     "output_type": "stream",
     "text": [
      "2.12.0\n",
      "2.12.0\n"
     ]
    }
   ],
   "source": [
    "print(tf.__version__)\n",
    "print(keras.__version__)"
   ]
  },
  {
   "cell_type": "code",
   "execution_count": 5,
   "metadata": {
    "executionInfo": {
     "elapsed": 2,
     "status": "ok",
     "timestamp": 1733870516304,
     "user": {
      "displayName": "dacc",
      "userId": "09344596892704604294"
     },
     "user_tz": -330
    },
    "id": "V0K-d2RsGG5u"
   },
   "outputs": [],
   "source": [
    "np.random.seed(30)\n",
    "import random as rn\n",
    "rn.seed(30)\n",
    "from keras import backend as K\n",
    "import tensorflow as tf\n",
    "tf.random.set_seed(30)"
   ]
  },
  {
   "cell_type": "code",
   "execution_count": 6,
   "metadata": {
    "colab": {
     "base_uri": "https://localhost:8080/"
    },
    "executionInfo": {
     "elapsed": 12,
     "status": "ok",
     "timestamp": 1733870518017,
     "user": {
      "displayName": "dacc",
      "userId": "09344596892704604294"
     },
     "user_tz": -330
    },
    "id": "_0RBj0ee07sp",
    "outputId": "5476ad52-5cbe-4872-f714-500921115027"
   },
   "outputs": [
    {
     "name": "stdout",
     "output_type": "stream",
     "text": [
      "Train length: 663\n",
      "Validation length: 100\n"
     ]
    }
   ],
   "source": [
    "train_doc = np.random.permutation(open('/content/drive/MyDrive/Project_data/train.csv').readlines())\n",
    "val_doc = np.random.permutation(open('/content/drive/MyDrive/Project_data/val.csv').readlines())\n",
    "\n",
    "#experiment with the batch size\n",
    "batch_size = 64\n",
    "num_classes = 5\n",
    "\n",
    "print(f'Train length: {len(train_doc)}')\n",
    "print(f'Validation length: {len(val_doc)}')"
   ]
  },
  {
   "cell_type": "markdown",
   "metadata": {
    "id": "T_e-vWuuGrv1"
   },
   "source": [
    "**Generator**\n",
    "\n",
    "This is one of the most important part of the code. The overall structure of the generator has been given. In the generator, you are going to preprocess the images as you have images of 2 different dimensions as well as create a batch of video frames. You have to experiment with img_idx, y,z and normalization such that you get high accuracy."
   ]
  },
  {
   "cell_type": "code",
   "execution_count": 7,
   "metadata": {
    "executionInfo": {
     "elapsed": 395,
     "status": "ok",
     "timestamp": 1733870522102,
     "user": {
      "displayName": "dacc",
      "userId": "09344596892704604294"
     },
     "user_tz": -330
    },
    "id": "k_86KeNTGh1U"
   },
   "outputs": [],
   "source": [
    "def preprocess_image(image, channel, height, width):\n",
    "    image = resize_image(image, height, width)\n",
    "    return normalise_image(image, channel)"
   ]
  },
  {
   "cell_type": "code",
   "execution_count": 8,
   "metadata": {
    "executionInfo": {
     "elapsed": 2,
     "status": "ok",
     "timestamp": 1733870522856,
     "user": {
      "displayName": "dacc",
      "userId": "09344596892704604294"
     },
     "user_tz": -330
    },
    "id": "g49EL5ZDGwUe"
   },
   "outputs": [],
   "source": [
    "def normalise_image(image, channel):\n",
    "    return (image[...,channel])/255"
   ]
  },
  {
   "cell_type": "code",
   "execution_count": 9,
   "metadata": {
    "executionInfo": {
     "elapsed": 4,
     "status": "ok",
     "timestamp": 1733870523479,
     "user": {
      "displayName": "dacc",
      "userId": "09344596892704604294"
     },
     "user_tz": -330
    },
    "id": "OAOWAZoBG1rc"
   },
   "outputs": [],
   "source": [
    "def resize_image(image, height, width):\n",
    "    h, w, c = image.shape\n",
    "    return resize(image, (height, width), anti_aliasing=True)"
   ]
  },
  {
   "cell_type": "code",
   "execution_count": 10,
   "metadata": {
    "executionInfo": {
     "elapsed": 5,
     "status": "ok",
     "timestamp": 1733870524800,
     "user": {
      "displayName": "dacc",
      "userId": "09344596892704604294"
     },
     "user_tz": -330
    },
    "id": "JCiErb9bG4Am"
   },
   "outputs": [],
   "source": [
    "def getImgTensor(n_frames):\n",
    "    img_idx = np.round(np.linspace(0, 29, n_frames)).astype(int)\n",
    "    return [img_idx, 120, 120, 3]"
   ]
  },
  {
   "cell_type": "code",
   "execution_count": 11,
   "metadata": {
    "executionInfo": {
     "elapsed": 5,
     "status": "ok",
     "timestamp": 1733870525424,
     "user": {
      "displayName": "dacc",
      "userId": "09344596892704604294"
     },
     "user_tz": -330
    },
    "id": "dN9i9sljG6CM"
   },
   "outputs": [],
   "source": [
    "def generate_common(t, source_path, batch_size, img_idx, batch, batch_data, batch_labels, height=120, width=120, augment=False):\n",
    "    for folder in range(batch_size): # iterate over the batch_size\n",
    "        imgs = os.listdir(source_path+'/'+ t[folder + (batch*batch_size)].split(';')[0]) # read all the images in the folder\n",
    "        for idx,item in enumerate(img_idx): #  Iterate over the frames/images of a folder to read them in\n",
    "            image = imageio.imread(source_path+'/'+ t[folder + (batch*batch_size)].strip().split(';')[0]+'/'+imgs[item]).astype(np.float32)\n",
    "\n",
    "\n",
    "            # Randomly transform few images of few folders; note that folders are randomly shuffled in each epoch too\n",
    "            if augment:\n",
    "                image = resize_image(image, height, width)\n",
    "                if np.random.randn() > 0:\n",
    "                    image = datagen.random_transform(image)\n",
    "\n",
    "            #crop the images and resize them. Note that the images are of 2 different shape\n",
    "            #and the conv3D will throw error if the inputs in a batch have different shapes\n",
    "\n",
    "            batch_data[folder,idx,:,:,0] = preprocess_image(image, 0, height, width) #normalise and feed in the image\n",
    "            batch_data[folder,idx,:,:,1] = preprocess_image(image, 1, height, width) #normalise and feed in the image\n",
    "            batch_data[folder,idx,:,:,2] = preprocess_image(image, 2, height, width) #normalise and feed in the image\n",
    "\n",
    "        batch_labels[folder, int(t[folder + (batch*batch_size)].strip().split(';')[2])] = 1\n",
    "\n",
    "    return batch_data, batch_labels"
   ]
  },
  {
   "cell_type": "code",
   "execution_count": 12,
   "metadata": {
    "executionInfo": {
     "elapsed": 377,
     "status": "ok",
     "timestamp": 1733870527752,
     "user": {
      "displayName": "dacc",
      "userId": "09344596892704604294"
     },
     "user_tz": -330
    },
    "id": "47u46cDuG_Mb"
   },
   "outputs": [],
   "source": [
    "# Kept default height and width to 120x120\n",
    "def generate(source_path, folder_list, batch_size, num_images=20, height=120, width=120, augment=False):\n",
    "    #print( 'Source path = ', source_path, '; batch size =', batch_size)\n",
    "    total_frames = 30\n",
    "\n",
    "    while True:\n",
    "        t = np.random.permutation(folder_list)\n",
    "        num_batches = len(t)//batch_size # calculate the number of batches\n",
    "        img_idx = np.round(np.linspace(0,total_frames-1,num_images)).astype(int) #create a list of image numbers you want to use for a particular video\n",
    "\n",
    "        for batch in range(num_batches): # we iterate over the number of batches\n",
    "            batch_data   = np.zeros((batch_size, num_images, height, width, 3)) # 3 is the number of channels RGB\n",
    "            batch_labels = np.zeros((batch_size, 5)) # batch_labels is the one hot representation of the output\n",
    "\n",
    "            yield generate_common(t, source_path, batch_size, img_idx, batch, batch_data, batch_labels, height, width)\n",
    "\n",
    "        # write the code for the remaining data points which are left after full batches\n",
    "        if (len(t)%batch_size):\n",
    "            remaining_batch_size = len(t)%batch_size\n",
    "            batch_data   = np.zeros((remaining_batch_size, num_images, height, width,3)) # 3 is the number of channels RGB\n",
    "            batch_labels = np.zeros((remaining_batch_size,5)) # batch_labels is the one hot representation of the output\n",
    "\n",
    "            yield generate_common(t, source_path, remaining_batch_size, img_idx, num_batches, batch_data, batch_labels, height, width)"
   ]
  },
  {
   "cell_type": "markdown",
   "metadata": {
    "id": "01VYQNkEHG_1"
   },
   "source": [
    "Note here that a video is represented above in the generator as (number of images, height, width, number of channels). Take this into consideration while creating the model architecture."
   ]
  },
  {
   "cell_type": "code",
   "execution_count": 13,
   "metadata": {
    "colab": {
     "base_uri": "https://localhost:8080/"
    },
    "executionInfo": {
     "elapsed": 384,
     "status": "ok",
     "timestamp": 1733870530326,
     "user": {
      "displayName": "dacc",
      "userId": "09344596892704604294"
     },
     "user_tz": -330
    },
    "id": "MP0PAKalHDMP",
    "outputId": "9c8deaef-49cd-46cd-85b9-d173828aa6bc"
   },
   "outputs": [
    {
     "name": "stdout",
     "output_type": "stream",
     "text": [
      "# training sequences = 663\n",
      "# validation sequences = 100\n",
      "# epochs = 20\n"
     ]
    }
   ],
   "source": [
    "curr_dt_time = datetime.datetime.now()\n",
    "train_path = '/content/drive/MyDrive/Project_data/train'\n",
    "val_path = '/content/drive/MyDrive/Project_data/val'\n",
    "num_train_sequences = len(train_doc)\n",
    "print('# training sequences =', num_train_sequences)\n",
    "num_val_sequences = len(val_doc)\n",
    "print('# validation sequences =', num_val_sequences)\n",
    "num_epochs = 20# choose the number of epochs\n",
    "print ('# epochs =', num_epochs)"
   ]
  },
  {
   "cell_type": "markdown",
   "metadata": {
    "id": "dmpyQjARHMX7"
   },
   "source": [
    "Validating the Generator"
   ]
  },
  {
   "cell_type": "code",
   "execution_count": 14,
   "metadata": {
    "colab": {
     "base_uri": "https://localhost:8080/"
    },
    "executionInfo": {
     "elapsed": 39407,
     "status": "ok",
     "timestamp": 1733870574871,
     "user": {
      "displayName": "dacc",
      "userId": "09344596892704604294"
     },
     "user_tz": -330
    },
    "id": "YzDQXCSOHJMy",
    "outputId": "15ea78f0-eb79-47bb-ab58-92d4f8bcb635"
   },
   "outputs": [
    {
     "name": "stdout",
     "output_type": "stream",
     "text": [
      "(64, 20, 120, 120, 3)\n"
     ]
    }
   ],
   "source": [
    "# check complete batch shape\n",
    "sample_generator = generate(train_path, train_doc, batch_size)\n",
    "sample_batch_data, sample_batch_labels = next(sample_generator)\n",
    "print(sample_batch_data.shape)\n",
    "\n"
   ]
  },
  {
   "cell_type": "code",
   "execution_count": 15,
   "metadata": {
    "colab": {
     "base_uri": "https://localhost:8080/"
    },
    "executionInfo": {
     "elapsed": 38917,
     "status": "ok",
     "timestamp": 1733870613786,
     "user": {
      "displayName": "dacc",
      "userId": "09344596892704604294"
     },
     "user_tz": -330
    },
    "id": "S-vwkoBKKI6b",
    "outputId": "01b5050c-ddda-446c-faa3-fa5170cf681c"
   },
   "outputs": [
    {
     "name": "stdout",
     "output_type": "stream",
     "text": [
      "(64, 20, 120, 120, 3)\n"
     ]
    }
   ],
   "source": [
    "# validation batch sample\n",
    "sample_val_generator = generate(val_path, val_doc, batch_size)\n",
    "sample_val_batch_data, sample_val_batch_labels = next(sample_val_generator)\n",
    "print(sample_val_batch_data.shape)"
   ]
  },
  {
   "cell_type": "code",
   "execution_count": 17,
   "metadata": {
    "colab": {
     "base_uri": "https://localhost:8080/",
     "height": 373
    },
    "executionInfo": {
     "elapsed": 1523,
     "status": "ok",
     "timestamp": 1733868018974,
     "user": {
      "displayName": "dacc",
      "userId": "09344596892704604294"
     },
     "user_tz": -330
    },
    "id": "DdylMbEBHQv9",
    "outputId": "46b9b402-2a9a-4c82-d05c-edfc789e23df"
   },
   "outputs": [
    {
     "data": {
      "image/png": "[encoded data removed]",
      "text/plain": [
       "<Figure size 400x400 with 4 Axes>"
      ]
     },
     "metadata": {},
     "output_type": "display_data"
    }
   ],
   "source": [
    "fig, ax = plt.subplots(2,2, figsize=(4,4))\n",
    "ax[0,0].imshow(sample_batch_data[16,10,:,:,:])\n",
    "ax[0,1].imshow(sample_batch_data[25,10,:,:,:])\n",
    "\n",
    "ax[1,0].imshow(sample_val_batch_data[16,10,:,:,:])\n",
    "ax[1,1].imshow(sample_val_batch_data[25,10,:,:,:])\n",
    "plt.show()"
   ]
  },
  {
   "cell_type": "markdown",
   "metadata": {
    "id": "jpDXCOXDOP9e"
   },
   "source": [
    "# **Model**\n",
    "\n",
    "Here you make the model using different functionalities that Keras provides. Remember to use Conv3D and MaxPooling3D and not Conv2D and Maxpooling2D for a 3D convolution model. You would want to use TimeDistributed while building a Conv2D + RNN model. Also remember that the last layer is the softmax. Design the network in such a way that the model is able to give good accuracy on the least number of parameters so that it can fit in the memory of the webcam."
   ]
  },
  {
   "cell_type": "code",
   "execution_count": 16,
   "metadata": {
    "executionInfo": {
     "elapsed": 377,
     "status": "ok",
     "timestamp": 1733870712897,
     "user": {
      "displayName": "dacc",
      "userId": "09344596892704604294"
     },
     "user_tz": -330
    },
    "id": "hYvgGb7NOK6r"
   },
   "outputs": [],
   "source": [
    "from keras.models import Sequential, Model\n",
    "from keras.layers import  Dense, Dropout, GRU, LSTM, Flatten, TimeDistributed, Flatten, BatchNormalization, Activation\n",
    "from keras.layers.convolutional import Conv3D, MaxPooling3D\n",
    "from keras.callbacks import ModelCheckpoint, ReduceLROnPlateau\n",
    "from keras import optimizers"
   ]
  },
  {
   "cell_type": "code",
   "execution_count": 17,
   "metadata": {
    "executionInfo": {
     "elapsed": 387,
     "status": "ok",
     "timestamp": 1733870772357,
     "user": {
      "displayName": "dacc",
      "userId": "09344596892704604294"
     },
     "user_tz": -330
    },
    "id": "n1Xr9Uu7OVm4"
   },
   "outputs": [],
   "source": [
    "def plot_loss_accuracy(history):\n",
    "    # list all data in history\n",
    "    print(history.history.keys())\n",
    "\n",
    "    # fig, ax = plt.subplots(1,2, figsize=(16,8))\n",
    "\n",
    "    # summarize history for accuracy\n",
    "    plt.plot(history.history['categorical_accuracy'])\n",
    "    plt.plot(history.history['val_categorical_accuracy'])\n",
    "    plt.title('model accuracy')\n",
    "    plt.ylabel('accuracy')\n",
    "    plt.xlabel('epoch')\n",
    "    plt.legend(['train', 'test'], loc='upper left')\n",
    "    plt.show()\n",
    "\n",
    "    # summarize history for loss\n",
    "    plt.plot(history.history['loss'])\n",
    "    plt.plot(history.history['val_loss'])\n",
    "    plt.title('model loss')\n",
    "    plt.ylabel('loss')\n",
    "    plt.xlabel('epoch')\n",
    "    plt.legend(['train', 'test'], loc='upper left')\n",
    "    plt.show()"
   ]
  },
  {
   "cell_type": "code",
   "execution_count": 18,
   "metadata": {
    "executionInfo": {
     "elapsed": 445,
     "status": "ok",
     "timestamp": 1733870776933,
     "user": {
      "displayName": "dacc",
      "userId": "09344596892704604294"
     },
     "user_tz": -330
    },
    "id": "2VKFG3EMSK0d"
   },
   "outputs": [],
   "source": [
    "def model_callbacks(folder_name):\n",
    "    model_name = str(folder_name) + '_' + str(curr_dt_time).replace(' ','').replace(':','_') + '/'\n",
    "\n",
    "    if not os.path.exists(model_name):\n",
    "        os.mkdir(model_name)\n",
    "\n",
    "    filepath = model_name + 'model-{epoch:05d}-{loss:.5f}-{categorical_accuracy:.5f}-{val_loss:.5f}-{val_categorical_accuracy:.5f}.h5'\n",
    "\n",
    "    checkpoint = ModelCheckpoint(filepath, monitor='val_loss', verbose=1, save_best_only=True, save_weights_only=False, mode='auto', period=1)\n",
    "\n",
    "    LR = ReduceLROnPlateau(monitor='val_loss', factor=0.1, patience=3, min_lr=0.0001, cooldown=1, verbose=1) # write the REducelronplateau code here\n",
    "\n",
    "    return [checkpoint, LR]"
   ]
  },
  {
   "cell_type": "code",
   "execution_count": 19,
   "metadata": {
    "executionInfo": {
     "elapsed": 393,
     "status": "ok",
     "timestamp": 1733870781587,
     "user": {
      "displayName": "dacc",
      "userId": "09344596892704604294"
     },
     "user_tz": -330
    },
    "id": "ApRr_2qYSPQj"
   },
   "outputs": [],
   "source": [
    "def calculate_steps(num_train_sequences, num_val_sequences, batch_size):\n",
    "    if (num_train_sequences%batch_size) == 0:\n",
    "        steps_per_epoch = int(num_train_sequences/batch_size)\n",
    "    else:\n",
    "        steps_per_epoch = (num_train_sequences//batch_size) + 1\n",
    "\n",
    "    if (num_val_sequences%batch_size) == 0:\n",
    "        validation_steps = int(num_val_sequences/batch_size)\n",
    "    else:\n",
    "        validation_steps = (num_val_sequences//batch_size) + 1\n",
    "\n",
    "    return steps_per_epoch,validation_steps"
   ]
  },
  {
   "cell_type": "code",
   "execution_count": 20,
   "metadata": {
    "executionInfo": {
     "elapsed": 6,
     "status": "ok",
     "timestamp": 1733870783296,
     "user": {
      "displayName": "dacc",
      "userId": "09344596892704604294"
     },
     "user_tz": -330
    },
    "id": "lnsT6NOjSb-f"
   },
   "outputs": [],
   "source": [
    "# Common utility to create conv 3D models\n",
    "def conv3D(conv_filters=(16, 32, 64, 128), dense_nodes=(256,128), dropout=0.25, num_images=20, height=120, width=120):\n",
    "\n",
    "    model = Sequential()\n",
    "\n",
    "    model.add(Conv3D(conv_filters[0], (3, 3, 3), padding='same', input_shape=(num_images, height, width, 3)))\n",
    "    model.add(Activation('relu'))\n",
    "    model.add(BatchNormalization())\n",
    "    model.add(MaxPooling3D(pool_size=(2, 2, 2)))\n",
    "\n",
    "    model.add(Conv3D(conv_filters[1], (3, 3, 3), padding='same'))\n",
    "    model.add(Activation('relu'))\n",
    "    model.add(BatchNormalization())\n",
    "    model.add(MaxPooling3D(pool_size=(2, 2, 2)))\n",
    "\n",
    "    model.add(Conv3D(conv_filters[2], (3, 3, 3), padding='same'))\n",
    "    model.add(Activation('relu'))\n",
    "    model.add(BatchNormalization())\n",
    "    model.add(MaxPooling3D(pool_size=(2, 2, 2)))\n",
    "\n",
    "    model.add(Conv3D(conv_filters[3], (3, 3, 3), padding='same'))\n",
    "    model.add(Activation('relu'))\n",
    "    model.add(BatchNormalization())\n",
    "    model.add(MaxPooling3D(pool_size=(2, 2, 2)))\n",
    "\n",
    "    model.add(Flatten())\n",
    "    model.add(Dense(dense_nodes[0]))\n",
    "    model.add(Activation('relu'))\n",
    "    model.add(BatchNormalization())\n",
    "    model.add(Dropout(dropout))\n",
    "\n",
    "    model.add(Dense(dense_nodes[1]))\n",
    "    model.add(Activation('relu'))\n",
    "    model.add(BatchNormalization())\n",
    "    model.add(Dropout(dropout))\n",
    "\n",
    "    model.add(Dense(num_classes))\n",
    "    model.add(Activation('softmax'))\n",
    "\n",
    "    opt = tf.keras.optimizers.Adam() #write your optimizer\n",
    "    model.compile(opt, loss='categorical_crossentropy', metrics=['categorical_accuracy'])\n",
    "\n",
    "    return model"
   ]
  },
  {
   "cell_type": "markdown",
   "metadata": {
    "id": "E9fr6AewSpdF"
   },
   "source": [
    "### **Model 1:**\n",
    "Conv 3D Model with 30 frames per video (16, 32, 64, 128 filters conv 3D layers + 256 dense layer + 128 dense layer + image size 120 by 120)"
   ]
  },
  {
   "cell_type": "code",
   "execution_count": 23,
   "metadata": {
    "colab": {
     "base_uri": "https://localhost:8080/"
    },
    "executionInfo": {
     "elapsed": 1065,
     "status": "ok",
     "timestamp": 1733868020016,
     "user": {
      "displayName": "dacc",
      "userId": "09344596892704604294"
     },
     "user_tz": -330
    },
    "id": "90IQgYh6Si7U",
    "outputId": "d8d2dff6-9325-4bd7-f0e8-a87b24ee4f24"
   },
   "outputs": [
    {
     "name": "stdout",
     "output_type": "stream",
     "text": [
      "# epochs = 20\n",
      "# batch size = 60\n",
      "# num_frames per video = 30\n",
      "Model: \"sequential\"\n",
      "_________________________________________________________________\n",
      " Layer (type)                Output Shape              Param #   \n",
      "=================================================================\n",
      " conv3d (Conv3D)             (None, 30, 120, 120, 16)  1312      \n",
      "                                                                 \n",
      " activation (Activation)     (None, 30, 120, 120, 16)  0         \n",
      "                                                                 \n",
      " batch_normalization (BatchN  (None, 30, 120, 120, 16)  64       \n",
      " ormalization)                                                   \n",
      "                                                                 \n",
      " max_pooling3d (MaxPooling3D  (None, 15, 60, 60, 16)   0         \n",
      " )                                                               \n",
      "                                                                 \n",
      " conv3d_1 (Conv3D)           (None, 15, 60, 60, 32)    13856     \n",
      "                                                                 \n",
      " activation_1 (Activation)   (None, 15, 60, 60, 32)    0         \n",
      "                                                                 \n",
      " batch_normalization_1 (Batc  (None, 15, 60, 60, 32)   128       \n",
      " hNormalization)                                                 \n",
      "                                                                 \n",
      " max_pooling3d_1 (MaxPooling  (None, 7, 30, 30, 32)    0         \n",
      " 3D)                                                             \n",
      "                                                                 \n",
      " conv3d_2 (Conv3D)           (None, 7, 30, 30, 64)     55360     \n",
      "                                                                 \n",
      " activation_2 (Activation)   (None, 7, 30, 30, 64)     0         \n",
      "                                                                 \n",
      " batch_normalization_2 (Batc  (None, 7, 30, 30, 64)    256       \n",
      " hNormalization)                                                 \n",
      "                                                                 \n",
      " max_pooling3d_2 (MaxPooling  (None, 3, 15, 15, 64)    0         \n",
      " 3D)                                                             \n",
      "                                                                 \n",
      " conv3d_3 (Conv3D)           (None, 3, 15, 15, 128)    221312    \n",
      "                                                                 \n",
      " activation_3 (Activation)   (None, 3, 15, 15, 128)    0         \n",
      "                                                                 \n",
      " batch_normalization_3 (Batc  (None, 3, 15, 15, 128)   512       \n",
      " hNormalization)                                                 \n",
      "                                                                 \n",
      " max_pooling3d_3 (MaxPooling  (None, 1, 7, 7, 128)     0         \n",
      " 3D)                                                             \n",
      "                                                                 \n",
      " flatten (Flatten)           (None, 6272)              0         \n",
      "                                                                 \n",
      " dense (Dense)               (None, 256)               1605888   \n",
      "                                                                 \n",
      " activation_4 (Activation)   (None, 256)               0         \n",
      "                                                                 \n",
      " batch_normalization_4 (Batc  (None, 256)              1024      \n",
      " hNormalization)                                                 \n",
      "                                                                 \n",
      " dropout (Dropout)           (None, 256)               0         \n",
      "                                                                 \n",
      " dense_1 (Dense)             (None, 128)               32896     \n",
      "                                                                 \n",
      " activation_5 (Activation)   (None, 128)               0         \n",
      "                                                                 \n",
      " batch_normalization_5 (Batc  (None, 128)              512       \n",
      " hNormalization)                                                 \n",
      "                                                                 \n",
      " dropout_1 (Dropout)         (None, 128)               0         \n",
      "                                                                 \n",
      " dense_2 (Dense)             (None, 5)                 645       \n",
      "                                                                 \n",
      " activation_6 (Activation)   (None, 5)                 0         \n",
      "                                                                 \n",
      "=================================================================\n",
      "Total params: 1,933,765\n",
      "Trainable params: 1,932,517\n",
      "Non-trainable params: 1,248\n",
      "_________________________________________________________________\n",
      "None\n"
     ]
    }
   ],
   "source": [
    "num_epochs = 20 # choose the number of epochs\n",
    "print ('# epochs =', num_epochs)\n",
    "batch_size = 60  #experiment with the batch size\n",
    "print ('# batch size =', batch_size)\n",
    "num_frames = 30\n",
    "print ('# num_frames per video =', num_frames)\n",
    "model = conv3D(num_images=num_frames)\n",
    "\n",
    "print (model.summary())"
   ]
  },
  {
   "cell_type": "markdown",
   "metadata": {
    "id": "rJXnQfotS6p7"
   },
   "source": [
    "Let us create the train_generator and the val_generator which will be used in .fit_generator."
   ]
  },
  {
   "cell_type": "code",
   "execution_count": 24,
   "metadata": {
    "colab": {
     "base_uri": "https://localhost:8080/"
    },
    "executionInfo": {
     "elapsed": 13,
     "status": "ok",
     "timestamp": 1733868020016,
     "user": {
      "displayName": "dacc",
      "userId": "09344596892704604294"
     },
     "user_tz": -330
    },
    "id": "JQQ-NIwwSyC5",
    "outputId": "56d67467-40a0-40dc-9358-be3e852256f4"
   },
   "outputs": [
    {
     "name": "stderr",
     "output_type": "stream",
     "text": [
      "WARNING:tensorflow:`period` argument is deprecated. Please use `save_freq` to specify the frequency in number of batches seen.\n"
     ]
    }
   ],
   "source": [
    "callbacks_list = model_callbacks(\"model_30_conv3D_1\")\n",
    "steps_per_epoch, validation_steps = calculate_steps(num_train_sequences, num_val_sequences, batch_size)\n",
    "\n",
    "train_generator = generate(train_path, train_doc, batch_size, num_images=num_frames)\n",
    "val_generator   = generate(val_path, val_doc, batch_size, num_images=num_frames)"
   ]
  },
  {
   "cell_type": "code",
   "execution_count": null,
   "metadata": {
    "colab": {
     "base_uri": "https://localhost:8080/"
    },
    "id": "PE6Of5JZS9yR",
    "outputId": "c3ecdccb-64b8-42d8-8f8d-ea1f8b6ddf41"
   },
   "outputs": [
    {
     "name": "stdout",
     "output_type": "stream",
     "text": [
      "Epoch 1/20\n",
      " 8/12 [===================>..........] - ETA: 15:32 - loss: 1.6517 - categorical_accuracy: 0.4271"
     ]
    }
   ],
   "source": [
    "history = model.fit(train_generator,\n",
    "                    steps_per_epoch=steps_per_epoch,\n",
    "                    epochs=num_epochs,\n",
    "                    verbose=1,\n",
    "                    callbacks=callbacks_list,\n",
    "                    validation_data=val_generator,\n",
    "                    validation_steps=validation_steps,\n",
    "                    class_weight=None,\n",
    "                    workers=1,\n",
    "                    initial_epoch=0)"
   ]
  },
  {
   "cell_type": "code",
   "execution_count": null,
   "metadata": {
    "id": "8VeaVTiMTRJS"
   },
   "outputs": [],
   "source": [
    "plot_loss_accuracy(history)"
   ]
  },
  {
   "cell_type": "markdown",
   "metadata": {
    "id": "lWMwqXVQWkjt"
   },
   "source": [
    "Model 2:\n",
    "Conv 3D Model with 20 frames per video (16, 32, 64, 128 filters conv 3D layers + 256 dense layer + 128 dense layer + image size 120 by 120)¶"
   ]
  },
  {
   "cell_type": "code",
   "execution_count": 21,
   "metadata": {
    "colab": {
     "base_uri": "https://localhost:8080/"
    },
    "executionInfo": {
     "elapsed": 1479,
     "status": "ok",
     "timestamp": 1733870837999,
     "user": {
      "displayName": "dacc",
      "userId": "09344596892704604294"
     },
     "user_tz": -330
    },
    "id": "fzZMXBEDWePE",
    "outputId": "ce91b4d6-7b4f-4ed8-9a33-4f3fa4ef29c5"
   },
   "outputs": [
    {
     "name": "stdout",
     "output_type": "stream",
     "text": [
      "# batch size = 10\n",
      "# num_frames per video = 20\n",
      "Model: \"sequential\"\n",
      "_________________________________________________________________\n",
      " Layer (type)                Output Shape              Param #   \n",
      "=================================================================\n",
      " conv3d (Conv3D)             (None, 20, 120, 120, 16)  1312      \n",
      "                                                                 \n",
      " activation (Activation)     (None, 20, 120, 120, 16)  0         \n",
      "                                                                 \n",
      " batch_normalization (BatchN  (None, 20, 120, 120, 16)  64       \n",
      " ormalization)                                                   \n",
      "                                                                 \n",
      " max_pooling3d (MaxPooling3D  (None, 10, 60, 60, 16)   0         \n",
      " )                                                               \n",
      "                                                                 \n",
      " conv3d_1 (Conv3D)           (None, 10, 60, 60, 32)    13856     \n",
      "                                                                 \n",
      " activation_1 (Activation)   (None, 10, 60, 60, 32)    0         \n",
      "                                                                 \n",
      " batch_normalization_1 (Batc  (None, 10, 60, 60, 32)   128       \n",
      " hNormalization)                                                 \n",
      "                                                                 \n",
      " max_pooling3d_1 (MaxPooling  (None, 5, 30, 30, 32)    0         \n",
      " 3D)                                                             \n",
      "                                                                 \n",
      " conv3d_2 (Conv3D)           (None, 5, 30, 30, 64)     55360     \n",
      "                                                                 \n",
      " activation_2 (Activation)   (None, 5, 30, 30, 64)     0         \n",
      "                                                                 \n",
      " batch_normalization_2 (Batc  (None, 5, 30, 30, 64)    256       \n",
      " hNormalization)                                                 \n",
      "                                                                 \n",
      " max_pooling3d_2 (MaxPooling  (None, 2, 15, 15, 64)    0         \n",
      " 3D)                                                             \n",
      "                                                                 \n",
      " conv3d_3 (Conv3D)           (None, 2, 15, 15, 128)    221312    \n",
      "                                                                 \n",
      " activation_3 (Activation)   (None, 2, 15, 15, 128)    0         \n",
      "                                                                 \n",
      " batch_normalization_3 (Batc  (None, 2, 15, 15, 128)   512       \n",
      " hNormalization)                                                 \n",
      "                                                                 \n",
      " max_pooling3d_3 (MaxPooling  (None, 1, 7, 7, 128)     0         \n",
      " 3D)                                                             \n",
      "                                                                 \n",
      " flatten (Flatten)           (None, 6272)              0         \n",
      "                                                                 \n",
      " dense (Dense)               (None, 256)               1605888   \n",
      "                                                                 \n",
      " activation_4 (Activation)   (None, 256)               0         \n",
      "                                                                 \n",
      " batch_normalization_4 (Batc  (None, 256)              1024      \n",
      " hNormalization)                                                 \n",
      "                                                                 \n",
      " dropout (Dropout)           (None, 256)               0         \n",
      "                                                                 \n",
      " dense_1 (Dense)             (None, 128)               32896     \n",
      "                                                                 \n",
      " activation_5 (Activation)   (None, 128)               0         \n",
      "                                                                 \n",
      " batch_normalization_5 (Batc  (None, 128)              512       \n",
      " hNormalization)                                                 \n",
      "                                                                 \n",
      " dropout_1 (Dropout)         (None, 128)               0         \n",
      "                                                                 \n",
      " dense_2 (Dense)             (None, 5)                 645       \n",
      "                                                                 \n",
      " activation_6 (Activation)   (None, 5)                 0         \n",
      "                                                                 \n",
      "=================================================================\n",
      "Total params: 1,933,765\n",
      "Trainable params: 1,932,517\n",
      "Non-trainable params: 1,248\n",
      "_________________________________________________________________\n",
      "None\n"
     ]
    }
   ],
   "source": [
    "num_epochs = 20 # choose the number of epochs\n",
    "#print ('# epochs =', num_epochs)\n",
    "batch_size = 10  #experiment with the batch size\n",
    "print ('# batch size =', batch_size)\n",
    "num_frames = 20\n",
    "print ('# num_frames per video =', num_frames)\n",
    "\n",
    "model = conv3D(num_images=num_frames)\n",
    "\n",
    "print (model.summary())"
   ]
  },
  {
   "cell_type": "markdown",
   "metadata": {
    "id": "0P4KHz2HXKjH"
   },
   "source": [
    "The steps_per_epoch and validation_steps are used by fit_generator to decide the number of next() calls it need to make. Let us now fit the model. This will start training the model and with the help of the checkpoints, you'll be able to save the model at the end of each epoch."
   ]
  },
  {
   "cell_type": "code",
   "execution_count": 22,
   "metadata": {
    "colab": {
     "base_uri": "https://localhost:8080/"
    },
    "executionInfo": {
     "elapsed": 397,
     "status": "ok",
     "timestamp": 1733870847507,
     "user": {
      "displayName": "dacc",
      "userId": "09344596892704604294"
     },
     "user_tz": -330
    },
    "id": "heSUdoNiXBIn",
    "outputId": "45fc976f-4ae2-4a20-8b70-74a4ab355f1d"
   },
   "outputs": [
    {
     "name": "stderr",
     "output_type": "stream",
     "text": [
      "WARNING:tensorflow:`period` argument is deprecated. Please use `save_freq` to specify the frequency in number of batches seen.\n"
     ]
    }
   ],
   "source": [
    "callbacks_list = model_callbacks(\"model_20_conv3D_2\")\n",
    "\n",
    "steps_per_epoch, validation_steps = calculate_steps(num_train_sequences, num_val_sequences, batch_size)\n",
    "\n",
    "train_generator = generate(train_path, train_doc, batch_size, num_images=num_frames)\n",
    "val_generator   = generate(val_path, val_doc, batch_size, num_images=num_frames)"
   ]
  },
  {
   "cell_type": "code",
   "execution_count": null,
   "metadata": {
    "colab": {
     "base_uri": "https://localhost:8080/"
    },
    "id": "hmEq26nRXTBN",
    "outputId": "75c1a3fd-bfa5-4aaf-b4e3-3a36a8744242"
   },
   "outputs": [
    {
     "name": "stdout",
     "output_type": "stream",
     "text": [
      "Epoch 1/20\n",
      "67/67 [==============================] - ETA: 0s - loss: 1.5577 - categorical_accuracy: 0.4480 \n",
      "Epoch 1: val_loss improved from inf to 1.84006, saving model to model_20_conv3D_2_2024-12-1022_42_08.175576/model-00001-1.55771-0.44796-1.84006-0.40000.h5\n",
      "67/67 [==============================] - 1998s 30s/step - loss: 1.5577 - categorical_accuracy: 0.4480 - val_loss: 1.8401 - val_categorical_accuracy: 0.4000 - lr: 0.0010\n",
      "Epoch 2/20\n",
      "46/67 [===================>..........] - ETA: 6:31 - loss: 1.0673 - categorical_accuracy: 0.5652"
     ]
    }
   ],
   "source": [
    "history = model.fit(train_generator, steps_per_epoch=steps_per_epoch, epochs=num_epochs, verbose=1,\n",
    "                              callbacks=callbacks_list, validation_data=val_generator,\n",
    "                              validation_steps=validation_steps, class_weight=None, workers=1, initial_epoch=0)"
   ]
  },
  {
   "cell_type": "code",
   "execution_count": null,
   "metadata": {
    "id": "95nec-SUXfY2"
   },
   "outputs": [],
   "source": [
    "plot_loss_accuracy(history)"
   ]
  },
  {
   "cell_type": "markdown",
   "metadata": {
    "id": "tojKyS2wX62k"
   },
   "source": [
    "## **Model 3:**\n",
    "\n",
    "Conv 3D Model with 30 frames per video (32, 64, 128, 256) filters conv 3D layers + 128 dense layer + 128 dense layer + image size 120 by 120)"
   ]
  },
  {
   "cell_type": "code",
   "execution_count": null,
   "metadata": {
    "id": "JbhGovJAYAL6"
   },
   "outputs": [],
   "source": [
    "num_epochs = 20 # choose the number of epochs\n",
    "print ('# epochs =', num_epochs)\n",
    "batch_size = 10  #experiment with the batch size\n",
    "print ('# batch size =', batch_size)\n",
    "num_frames = 30\n",
    "print ('# num_frames per video =', num_frames)\n",
    "\n",
    "conv_filters = (32, 64, 128, 256)\n",
    "dense_filters = (128, 128)\n",
    "model = conv3D(conv_filters=conv_filters,dense_nodes=dense_filters, num_images=num_frames)\n",
    "print (model.summary())"
   ]
  },
  {
   "cell_type": "code",
   "execution_count": null,
   "metadata": {
    "id": "A86mfyFzYD9v"
   },
   "outputs": [],
   "source": [
    "callbacks_list = model_callbacks(\"model_30_conv3D_3\")\n",
    "\n",
    "steps_per_epoch, validation_steps = calculate_steps(num_train_sequences, num_val_sequences, batch_size)\n",
    "\n",
    "train_generator = generate(train_path, train_doc, batch_size, num_images=num_frames)\n",
    "val_generator   = generate(val_path, val_doc, batch_size, num_images=num_frames)"
   ]
  },
  {
   "cell_type": "code",
   "execution_count": null,
   "metadata": {
    "id": "jrThn4ufYtR5"
   },
   "outputs": [],
   "source": [
    "history = model.fit(train_generator, steps_per_epoch=steps_per_epoch, epochs=num_epochs, verbose=1,\n",
    "                              callbacks=callbacks_list, validation_data=val_generator,\n",
    "                              validation_steps=validation_steps, class_weight=None, workers=1, initial_epoch=0)"
   ]
  },
  {
   "cell_type": "code",
   "execution_count": null,
   "metadata": {
    "id": "b4ERPPx6Yyl1"
   },
   "outputs": [],
   "source": [
    "plot_loss_accuracy(history)"
   ]
  },
  {
   "cell_type": "markdown",
   "metadata": {
    "id": "gbY5QFOoZBXC"
   },
   "source": [
    "## **Model 4:**\n",
    "\n",
    "Conv 3D Model with 20 frames per video (32, 64, 128, 256) filters conv 3D layers + 128 dense layer + 128 dense layer + image size 120 by 120)"
   ]
  },
  {
   "cell_type": "code",
   "execution_count": null,
   "metadata": {
    "id": "Z9CKr1eyZAig"
   },
   "outputs": [],
   "source": [
    "num_epochs = 20 # choose the number of epochs\n",
    "print ('# epochs =', num_epochs)\n",
    "batch_size = 10  #experiment with the batch size\n",
    "print ('# batch size =', batch_size)\n",
    "num_frames = 20\n",
    "print ('# num_frames per video =', num_frames)\n",
    "\n",
    "conv_filters = (32, 64, 128, 256)\n",
    "dense_filters = (128, 128)\n",
    "model = conv3D(conv_filters=conv_filters,dense_nodes=dense_filters, num_images=num_frames)\n",
    "print (model.summary())"
   ]
  },
  {
   "cell_type": "code",
   "execution_count": null,
   "metadata": {
    "id": "r5BMHBoPZdFj"
   },
   "outputs": [],
   "source": [
    "callbacks_list = model_callbacks(\"model_20_conv3D_3\")\n",
    "\n",
    "steps_per_epoch, validation_steps = calculate_steps(num_train_sequences, num_val_sequences, batch_size)\n",
    "\n",
    "train_generator = generate(train_path, train_doc, batch_size, num_images=num_frames)\n",
    "val_generator   = generate(val_path, val_doc, batch_size, num_images=num_frames)"
   ]
  },
  {
   "cell_type": "code",
   "execution_count": null,
   "metadata": {
    "id": "Mze-ySXvZeLv"
   },
   "outputs": [],
   "source": [
    "history = model.fit(train_generator, steps_per_epoch=steps_per_epoch, epochs=num_epochs, verbose=1,\n",
    "                              callbacks=callbacks_list, validation_data=val_generator,\n",
    "                              validation_steps=validation_steps, class_weight=None, workers=1, initial_epoch=0)"
   ]
  },
  {
   "cell_type": "code",
   "execution_count": null,
   "metadata": {
    "id": "_zyrs9WFZsSV"
   },
   "outputs": [],
   "source": [
    "plot_loss_accuracy(history)"
   ]
  },
  {
   "cell_type": "markdown",
   "metadata": {
    "id": "ICInMSICZ9LO"
   },
   "source": [
    "## **TRANSFER LEARNING - MobileNet Conv2d + GRU**"
   ]
  },
  {
   "cell_type": "code",
   "execution_count": null,
   "metadata": {
    "id": "mlW5Ya3nZ3qt"
   },
   "outputs": [],
   "source": [
    "from keras.applications import mobilenet\n",
    "\n",
    "def mobilenet_RNN_GRU_LSTM((fine_tune=False, gru=False, lstm_gru_cells=128, dense_nodes=128, dropout=0.25, num_images=20, height=120, width=120):\n",
    "\n",
    "    mobilenet_transfer = mobilenet.MobileNet(weights='imagenet', include_top=False)\n",
    "    print(\"Number of layers in the pretrained mobilenet model: \", len(mobilenet_transfer.layers))\n",
    "\n",
    "    if (fine_tune):\n",
    "        # Fine-tune from this layer onwards\n",
    "        fine_tune_at = 50\n",
    "        # Freeze all the layers before the `fine_tune_at` layer\n",
    "        for layer in mobilenet_transfer.layers[:fine_tune_at]:\n",
    "            layer.trainable = False\n",
    "\n",
    "    model = Sequential()\n",
    "    model.add(TimeDistributed(mobilenet_transfer,input_shape=(num_images, height, width, 3)))\n",
    "    model.add(TimeDistributed(BatchNormalization()))\n",
    "    model.add(TimeDistributed(keras.layers.MaxPooling2D((2, 2))))\n",
    "    model.add(TimeDistributed(Flatten()))\n",
    "    if (gru):\n",
    "        model.add(GRU(lstm_gru_cells))\n",
    "    else:\n",
    "        model.add(LSTM(lstm_gru_cells))\n",
    "    model.add(Dropout(dropout))\n",
    "    model.add(Dense(dense_nodes, activation='relu'))\n",
    "    model.add(Dropout(dropout))\n",
    "    model.add(Dense(num_classes, activation='softmax'))\n",
    "\n",
    "    opt = tf.keras.optimizers.Adam() #write your optimizer\n",
    "    model.compile(opt, loss='categorical_crossentropy', metrics=['categorical_accuracy'])\n",
    "    return model"
   ]
  },
  {
   "cell_type": "markdown",
   "metadata": {
    "id": "uS4uN-UYarvZ"
   },
   "source": [
    "## **Model 5:**\n",
    "Mobilenet (re train all weights) + GRU (128 cells) + 128 dense nodes"
   ]
  },
  {
   "cell_type": "code",
   "execution_count": null,
   "metadata": {
    "id": "5oy1TFkJZ34m"
   },
   "outputs": [],
   "source": [
    "num_epochs = 20 # choose the number of epochs\n",
    "print ('# epochs =', num_epochs)\n",
    "batch_size = 10  #experiment with the batch size\n",
    "print ('# batch size =', batch_size)\n",
    "num_frames = 20\n",
    "print ('# num frames per video =', num_frames)\n",
    "\n",
    "model = mobilenet_RNN_GRU_LSTM((gru=True, num_images=num_frames)\n",
    "print (model.summary())"
   ]
  },
  {
   "cell_type": "code",
   "execution_count": null,
   "metadata": {
    "id": "onSitbEQZ38M"
   },
   "outputs": [],
   "source": [
    "callbacks_list = model_callbacks(\"model_20_retrain_mobilenet_gru\")\n",
    "\n",
    "steps_per_epoch, validation_steps = calculate_steps(num_train_sequences, num_val_sequences, batch_size)\n",
    "\n",
    "train_generator = generate(train_path, train_doc, batch_size, num_images=num_frames)\n",
    "val_generator   = generate(val_path, val_doc, batch_size, num_images=num_frames)"
   ]
  },
  {
   "cell_type": "code",
   "execution_count": null,
   "metadata": {
    "id": "2fu3n1Q8cG7j"
   },
   "outputs": [],
   "source": [
    "history = model.fit(train_generator, steps_per_epoch=steps_per_epoch, epochs=num_epochs, verbose=1,\n",
    "                              callbacks=callbacks_list, validation_data=val_generator,\n",
    "                              validation_steps=validation_steps, class_weight=None, workers=1, initial_epoch=0)"
   ]
  },
  {
   "cell_type": "code",
   "execution_count": null,
   "metadata": {
    "id": "_MwAlrMIcYeR"
   },
   "outputs": [],
   "source": [
    "plot_loss_accuracy(history)"
   ]
  },
  {
   "cell_type": "markdown",
   "metadata": {
    "id": "fOgfPFWndEp3"
   },
   "source": [
    "### **Model 6:**\n",
    "\n",
    "Mobilenet (re train all weights) + GRU (128 cells) + 128 dense nodes + Random data transformations on training data set"
   ]
  },
  {
   "cell_type": "code",
   "execution_count": null,
   "metadata": {
    "id": "Vfx3jx0gdPS_"
   },
   "outputs": [],
   "source": [
    "num_epochs = 20 # choose the number of epochs\n",
    "print ('# epochs =', num_epochs)\n",
    "batch_size = 10  #experiment with the batch size\n",
    "print ('# batch size =', batch_size)\n",
    "num_frames = 30\n",
    "print ('# num frames per video =', num_frames)\n",
    "\n",
    "model = mobilenet_RNN_GRU_LSTM((gru=True, num_images=num_frames)\n",
    "print(model.summary())"
   ]
  },
  {
   "cell_type": "code",
   "execution_count": null,
   "metadata": {
    "id": "9HAcRTDkdgkv"
   },
   "outputs": [],
   "source": [
    "callbacks_list = model_callbacks(\"model_30_retrain_mobilenet_gru\")\n",
    "\n",
    "steps_per_epoch, validation_steps = calculate_steps(num_train_sequences, num_val_sequences, batch_size)\n",
    "\n",
    "train_generator = generate(train_path, train_doc, batch_size, num_images=num_frames)\n",
    "val_generator   = generate(val_path, val_doc, batch_size, num_images=num_frames)"
   ]
  },
  {
   "cell_type": "code",
   "execution_count": null,
   "metadata": {
    "id": "7D6A8ywNeELl"
   },
   "outputs": [],
   "source": [
    "history = model.fit(train_generator, steps_per_epoch=steps_per_epoch, epochs=num_epochs, verbose=1,\n",
    "                              callbacks=callbacks_list, validation_data=val_generator,\n",
    "                              validation_steps=validation_steps, class_weight=None, workers=1, initial_epoch=0)"
   ]
  },
  {
   "cell_type": "code",
   "execution_count": null,
   "metadata": {
    "id": "A4NcNDiseSrx"
   },
   "outputs": [],
   "source": [
    "plot_loss_accuracy(history)"
   ]
  },
  {
   "cell_type": "markdown",
   "metadata": {
    "id": "LlSMkgC3ej1F"
   },
   "source": [
    "## **Model 7:**\n",
    "\n",
    "Mobilenet 20 frames (re train all wieghts) + LSTM (128 cells) + 128 dense nodes"
   ]
  },
  {
   "cell_type": "code",
   "execution_count": null,
   "metadata": {
    "id": "VpIqO7yeeo9M"
   },
   "outputs": [],
   "source": [
    "num_epochs = 20 # choose the number of epochs\n",
    "print ('# epochs =', num_epochs)\n",
    "batch_size = 10  #experiment with the batch size\n",
    "print ('# batch size =', batch_size)\n",
    "num_frames = 20\n",
    "print ('# num frames per video =', num_frames)\n",
    "\n",
    "model = mobilenet_RNN_GRU_LSTM((gru=False, num_images=num_frames)\n",
    "print(model.summary())"
   ]
  },
  {
   "cell_type": "code",
   "execution_count": null,
   "metadata": {
    "id": "o_DN9e9kewAl"
   },
   "outputs": [],
   "source": [
    "callbacks_list = model_callbacks(\"model_20_retrain_mobilenet_lstm\")\n",
    "\n",
    "steps_per_epoch, validation_steps = calculate_steps(num_train_sequences, num_val_sequences, batch_size)\n",
    "\n",
    "train_generator = generate(train_path, train_doc, batch_size, num_images=num_frames)\n",
    "val_generator   = generate(val_path, val_doc, batch_size, num_images=num_frames)"
   ]
  },
  {
   "cell_type": "code",
   "execution_count": null,
   "metadata": {
    "id": "faLr1Juce31Q"
   },
   "outputs": [],
   "source": [
    "history = model.fit(train_generator, steps_per_epoch=steps_per_epoch, epochs=num_epochs, verbose=1,\n",
    "                              callbacks=callbacks_list, validation_data=val_generator,\n",
    "                              validation_steps=validation_steps, class_weight=None, workers=1, initial_epoch=0)\n"
   ]
  },
  {
   "cell_type": "code",
   "execution_count": null,
   "metadata": {
    "id": "QASFknSqfLW7"
   },
   "outputs": [],
   "source": [
    "plot_loss_accuracy(history)"
   ]
  },
  {
   "cell_type": "markdown",
   "metadata": {
    "id": "vY6RyznrfC12"
   },
   "source": [
    "## **Model 8:**\n",
    "\n",
    "Mobilenet 30 frames (re train all wieghts) + LSTM (128 cells) + 128 dense nodes"
   ]
  },
  {
   "cell_type": "code",
   "execution_count": null,
   "metadata": {
    "id": "iRehEY76fUD2"
   },
   "outputs": [],
   "source": [
    "num_epochs = 20 # choose the number of epochs\n",
    "print ('# epochs =', num_epochs)\n",
    "batch_size = 10  #experiment with the batch size\n",
    "print ('# batch size =', batch_size)\n",
    "num_frames = 30\n",
    "print ('# num frames per video =', num_frames)\n",
    "\n",
    "model = mobilenet_RNN_GRU_LSTM((gru=False, num_images=num_frames)\n",
    "print(model.summary())"
   ]
  },
  {
   "cell_type": "code",
   "execution_count": null,
   "metadata": {
    "id": "fr8FvnXnfZJT"
   },
   "outputs": [],
   "source": [
    "callbacks_list = model_callbacks(\"model_30_retrain_mobilenet_lstm\")\n",
    "\n",
    "steps_per_epoch, validation_steps = calculate_steps(num_train_sequences, num_val_sequences, batch_size)\n",
    "\n",
    "train_generator = generate(train_path, train_doc, batch_size, num_images=num_frames)\n",
    "val_generator   = generate(val_path, val_doc, batch_size, num_images=num_frames)"
   ]
  },
  {
   "cell_type": "code",
   "execution_count": null,
   "metadata": {
    "id": "06WAcrOefc40"
   },
   "outputs": [],
   "source": [
    "history = model.fit(train_generator, steps_per_epoch=steps_per_epoch, epochs=num_epochs, verbose=1,\n",
    "                              callbacks=callbacks_list, validation_data=val_generator,\n",
    "                              validation_steps=validation_steps, class_weight=None, workers=1, initial_epoch=0)"
   ]
  },
  {
   "cell_type": "code",
   "execution_count": null,
   "metadata": {
    "id": "FgA6NY81fpfI"
   },
   "outputs": [],
   "source": [
    "plot_loss_accuracy(history)"
   ]
  },
  {
   "cell_type": "markdown",
   "metadata": {
    "id": "uSLANcVefz08"
   },
   "source": [
    "## Load Selected Model\n",
    "\n",
    "Loading the selected model from the disk"
   ]
  },
  {
   "cell_type": "code",
   "execution_count": null,
   "metadata": {
    "id": "r_IlZ4GrgLWT"
   },
   "outputs": [],
   "source": [
    "# /content/model_30_conv3D_1_2024-12-1020_25_03.161033\n",
    "\n",
    "from keras.models import load_model\n",
    "model = load_model('model-00016-0.03003-0.99548-0.05517-0.98000.h5')\n",
    "model.summary()"
   ]
  },
  {
   "cell_type": "markdown",
   "metadata": {
    "id": "2_GZo0vdgF0q"
   },
   "source": []
  }
 ],
 "metadata": {
  "colab": {
   "authorship_tag": "ABX9TyPhaRR8wVLvlAlJ4iLfdmss",
   "mount_file_id": "1u9kMQ_NwDeao_dwiaL96mrUw09HR6DgI",
   "provenance": []
  },
  "kernelspec": {
   "display_name": "Python 3 (ipykernel)",
   "language": "python",
   "name": "python3"
  },
  "language_info": {
   "codemirror_mode": {
    "name": "ipython",
    "version": 3
   },
   "file_extension": ".py",
   "mimetype": "text/x-python",
   "name": "python",
   "nbconvert_exporter": "python",
   "pygments_lexer": "ipython3",
   "version": "3.11.7"
  }
 },
 "nbformat": 4,
 "nbformat_minor": 4
}
